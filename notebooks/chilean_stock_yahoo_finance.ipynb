{
 "cells": [
  {
   "cell_type": "code",
   "execution_count": 1,
   "metadata": {},
   "outputs": [
    {
     "name": "stdout",
     "output_type": "stream",
     "text": [
      "- AESGENER.SN: No data found, symbol may be delisted\n"
     ]
    }
   ],
   "source": [
    "#%%timeit\n",
    "# Using Yahoo Finance\n",
    "import pandas as pd\n",
    "import datetime as dt\n",
    "import yfinance as yf\n",
    "\n",
    "tickers = ['LTM.SN', 'AESGENER.SN', 'AGUAS-A.SN', 'ANDINA-B.SN', 'BCI.SN', 'CAP.SN', 'CCU.SN',\n",
    "           'CENCOSUD.SN', 'ENTEL.SN', 'FALABELLA.SN', 'CHILE.SN', 'COPEC.SN', 'RIPLEY.SN'\n",
    "          ]\n",
    "\n",
    "start = dt.datetime(2018,1,1)\n",
    "end = dt.datetime.now()\n",
    "df = pd.DataFrame()\n",
    "for accion in tickers:\n",
    "    df_ticker = yf.Ticker(accion)\n",
    "    # get company name\n",
    "    try:\n",
    "        longname = df_ticker.info['longName']\n",
    "        industry = df_ticker.info['industry']\n",
    "        payoutRatio = df_ticker.info['payoutRatio']\n",
    "    except:\n",
    "        longname = accion\n",
    "        industry = 'N/A'\n",
    "        payoutRatio = 0 \n",
    "    # get historical market data\n",
    "    hist = df_ticker.history(start=start, end=end, interval='1d')\n",
    "    hist['Ticker'] = accion\n",
    "    hist['Name'] = longname\n",
    "    hist['Industry'] = industry\n",
    "    hist['PayoutRatio'] = payoutRatio\n",
    "    df = df.append(hist, ignore_index=False)\n",
    "file_name = '../DATA/chilean_stocks.csv'\n",
    "df.to_csv(file_name)"
   ]
  },
  {
   "cell_type": "code",
   "execution_count": 1,
   "metadata": {},
   "outputs": [],
   "source": [
    "#%%timeit\n",
    "# Using Pandas Datareader\n",
    "import pandas as pd\n",
    "import datetime as dt\n",
    "from pandas_datareader import data as pdr\n",
    "\n",
    "tickers = ['LTM.SN', 'AESGENER.SN', 'AGUAS-A.SN', 'ANDINA-B.SN', 'BCI.SN', 'CAP.SN', 'CCU.SN',\n",
    "           'CENCOSUD.SN', 'ENTEL.SN', 'FALABELLA.SN', 'CHILE.SN', 'COPEC.SN', 'RIPLEY.SN'\n",
    "          ]\n",
    "\n",
    "start = dt.datetime(2018,1,1)\n",
    "end = dt.datetime.now()\n",
    "df = pd.DataFrame()\n",
    "for accion in tickers:\n",
    "    # get historical market data\n",
    "    hist = pdr.get_data_yahoo(accion, start=start, end=end)\n",
    "    hist['ticker'] = accion\n",
    "    df = df.append(hist, ignore_index=False)\n",
    "file_name = '../DATA/chilean_stocks_pdr.csv'\n",
    "df.to_csv(file_name)"
   ]
  },
  {
   "cell_type": "code",
   "execution_count": null,
   "metadata": {},
   "outputs": [],
   "source": []
  }
 ],
 "metadata": {
  "kernelspec": {
   "display_name": "Python 3",
   "language": "python",
   "name": "python3"
  },
  "language_info": {
   "codemirror_mode": {
    "name": "ipython",
    "version": 3
   },
   "file_extension": ".py",
   "mimetype": "text/x-python",
   "name": "python",
   "nbconvert_exporter": "python",
   "pygments_lexer": "ipython3",
   "version": "3.7.9"
  }
 },
 "nbformat": 4,
 "nbformat_minor": 2
}
